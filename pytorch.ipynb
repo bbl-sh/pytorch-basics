{
 "cells": [
  {
   "cell_type": "code",
   "execution_count": 1,
   "id": "e97917e6-a9c1-4a2b-920b-0dfb1ff7a1d9",
   "metadata": {},
   "outputs": [
    {
     "data": {
      "text/plain": [
       "'mps'"
      ]
     },
     "execution_count": 1,
     "metadata": {},
     "output_type": "execute_result"
    }
   ],
   "source": [
    "import torch\n",
    "import numpy as np\n",
    "import pandas as pd\n",
    "import sklearn\n",
    "from torch import nn\n",
    "from torchvision import transforms\n",
    "# local imports\n",
    "from helper_dataset import helper_dataloader_mnist\n",
    "from helper_train import train_model\n",
    "\n",
    "# Set the device      \n",
    "device = \"mps\" if torch.backends.mps.is_available() else \"cpu\"\n",
    "# device = torch.device('cuda:0' if torch.cuda.is_available() else 'cpu')\n",
    "device"
   ]
  },
  {
   "cell_type": "code",
   "execution_count": 2,
   "id": "6bf7efe7-0b83-464c-836f-98f8db46b9e5",
   "metadata": {},
   "outputs": [
    {
     "name": "stdout",
     "output_type": "stream",
     "text": [
      "Epoch: 001/002 | Batch 0000/7500 | Loss: 2.2936\n",
      "Epoch: 001/002 | Batch 5000/7500 | Loss: 30.3153\n",
      "Epoch: 002/002 | Batch 0000/7500 | Loss: 38.2067\n",
      "Epoch: 002/002 | Batch 5000/7500 | Loss: 73.3381\n"
     ]
    }
   ],
   "source": [
    "train_loader, test_loader = helper_dataloader_mnist()\n",
    "\n",
    "class MLP(nn.Module):\n",
    "  def __init__(self, num_of_features, num_classes):\n",
    "    super(MLP, self).__init__()\n",
    "    self.myNetwork = nn.Sequential(\n",
    "        nn.Flatten(),\n",
    "        nn.Linear(num_of_features,120),\n",
    "        nn.ReLU(),\n",
    "        torch.nn.Linear(120, num_classes)\n",
    "    )\n",
    "  def forward(self, x):\n",
    "    logits = self.myNetwork(x)\n",
    "    return logits\n",
    "\n",
    "model = MLP(num_of_features=28*28,\n",
    "                             num_classes=10)\n",
    "optimizer = torch.optim.SGD(model.parameters(), lr=0.1)\n",
    "\n",
    "train_model(num_epochs=2, model = model, train_loader= train_loader, test_loader = test_loader,\n",
    "            optimizer = optimizer)"
   ]
  }
 ],
 "metadata": {
  "kernelspec": {
   "display_name": "Python 3.10.12 ('base')",
   "language": "python",
   "name": "python3"
  },
  "language_info": {
   "codemirror_mode": {
    "name": "ipython",
    "version": 3
   },
   "file_extension": ".py",
   "mimetype": "text/x-python",
   "name": "python",
   "nbconvert_exporter": "python",
   "pygments_lexer": "ipython3",
   "version": "3.10.12"
  },
  "vscode": {
   "interpreter": {
    "hash": "c6e4e9f98eb68ad3b7c296f83d20e6de614cb42e90992a65aa266555a3137d0d"
   }
  }
 },
 "nbformat": 4,
 "nbformat_minor": 5
}
